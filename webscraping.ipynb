{
  "nbformat": 4,
  "nbformat_minor": 0,
  "metadata": {
    "colab": {
      "provenance": []
    },
    "kernelspec": {
      "name": "python3",
      "display_name": "Python 3"
    },
    "language_info": {
      "name": "python"
    }
  },
  "cells": [
    {
      "cell_type": "code",
      "execution_count": 21,
      "metadata": {
        "id": "-8hGkNhZWTfb"
      },
      "outputs": [],
      "source": [
        "import requests\n",
        "web_link = \"https://en.wikipedia.org/wiki/List_of_Asian_countries_by_area\" #choose the link from which the data should be scraped\n",
        "link = requests.get(web_link).text"
      ]
    },
    {
      "cell_type": "code",
      "source": [
        "print(link)"
      ],
      "metadata": {
        "id": "VtoS-n8XXwno"
      },
      "execution_count": null,
      "outputs": []
    },
    {
      "cell_type": "code",
      "source": [
        "from bs4 import BeautifulSoup  #Beautiful Soup is a Python package for parsing HTML and XML documents.\n",
        "soup = BeautifulSoup(link, 'lxml')"
      ],
      "metadata": {
        "id": "OIMIM1B1XREn"
      },
      "execution_count": 23,
      "outputs": []
    },
    {
      "cell_type": "code",
      "source": [
        "print(soup)"
      ],
      "metadata": {
        "id": "6R0LrsxrX4si"
      },
      "execution_count": null,
      "outputs": []
    },
    {
      "cell_type": "code",
      "source": [
        "print(soup.prettify())"
      ],
      "metadata": {
        "id": "pdDDbOcUX9Rx"
      },
      "execution_count": null,
      "outputs": []
    },
    {
      "cell_type": "markdown",
      "source": [
        "gives title of the link"
      ],
      "metadata": {
        "id": "FvvrjczIZ7pq"
      }
    },
    {
      "cell_type": "code",
      "source": [
        "soup.title"
      ],
      "metadata": {
        "colab": {
          "base_uri": "https://localhost:8080/"
        },
        "id": "GUBBEPlqYA_K",
        "outputId": "f81c3964-884b-4761-a228-20c371fe69c9"
      },
      "execution_count": 26,
      "outputs": [
        {
          "output_type": "execute_result",
          "data": {
            "text/plain": [
              "<title>List of Asian countries by area - Wikipedia</title>"
            ]
          },
          "metadata": {},
          "execution_count": 26
        }
      ]
    },
    {
      "cell_type": "code",
      "source": [
        "soup.title.string"
      ],
      "metadata": {
        "colab": {
          "base_uri": "https://localhost:8080/",
          "height": 36
        },
        "id": "NsU6JdeUYM1o",
        "outputId": "e02d7f85-cbca-4b0f-a9b7-50f360bd6eca"
      },
      "execution_count": 27,
      "outputs": [
        {
          "output_type": "execute_result",
          "data": {
            "text/plain": [
              "'List of Asian countries by area - Wikipedia'"
            ],
            "application/vnd.google.colaboratory.intrinsic+json": {
              "type": "string"
            }
          },
          "metadata": {},
          "execution_count": 27
        }
      ]
    },
    {
      "cell_type": "code",
      "source": [
        "soup.a"
      ],
      "metadata": {
        "colab": {
          "base_uri": "https://localhost:8080/"
        },
        "id": "6-kVgHjHYTtW",
        "outputId": "35b1c261-619c-41a6-ae6b-fdcd55a458ab"
      },
      "execution_count": 28,
      "outputs": [
        {
          "output_type": "execute_result",
          "data": {
            "text/plain": [
              "<a class=\"mw-jump-link\" href=\"#bodyContent\">Jump to content</a>"
            ]
          },
          "metadata": {},
          "execution_count": 28
        }
      ]
    },
    {
      "cell_type": "markdown",
      "source": [
        "Finds all the links having \"a\" tag"
      ],
      "metadata": {
        "id": "P-BJ8AQXaA8y"
      }
    },
    {
      "cell_type": "code",
      "source": [
        "soup.find_all(\"a\")"
      ],
      "metadata": {
        "id": "9vBCnNacYqnp"
      },
      "execution_count": null,
      "outputs": []
    },
    {
      "cell_type": "code",
      "source": [
        "all_links = soup.find_all(\"a\")\n",
        "for link in all_links:\n",
        "  print(link.get(\"href\"))"
      ],
      "metadata": {
        "id": "9e94eBaiYwvl"
      },
      "execution_count": null,
      "outputs": []
    },
    {
      "cell_type": "markdown",
      "source": [
        "Finds all the tables"
      ],
      "metadata": {
        "id": "ZctDCrfDaJjp"
      }
    },
    {
      "cell_type": "code",
      "source": [
        "all_tables = soup.find_all(\"table\")\n",
        "print(all_tables)"
      ],
      "metadata": {
        "id": "rl-iDLVuZRiX"
      },
      "execution_count": null,
      "outputs": []
    },
    {
      "cell_type": "markdown",
      "source": [
        "chhosing the correct table to be scraped"
      ],
      "metadata": {
        "id": "YYlRa4aBaMmX"
      }
    },
    {
      "cell_type": "code",
      "source": [
        "right_table = soup.find('table', class_='wikitable sortable')\n",
        "right_table"
      ],
      "metadata": {
        "id": "m8dizILbZktK"
      },
      "execution_count": null,
      "outputs": []
    },
    {
      "cell_type": "code",
      "source": [
        "table_links = right_table.findAll(\"a\")\n",
        "table_links"
      ],
      "metadata": {
        "colab": {
          "base_uri": "https://localhost:8080/"
        },
        "id": "vDPknBFgcJad",
        "outputId": "25fbc90f-9052-4d15-f36b-fd774fb1f126"
      },
      "execution_count": 33,
      "outputs": [
        {
          "output_type": "execute_result",
          "data": {
            "text/plain": [
              "[<a href=\"/wiki/Russia\" title=\"Russia\">Russia</a>,\n",
              " <a href=\"#cite_note-3\">[a]</a>,\n",
              " <a href=\"/wiki/China\" title=\"China\">China</a>,\n",
              " <a href=\"#cite_note-4\">[b]</a>,\n",
              " <a href=\"/wiki/India\" title=\"India\">India</a>,\n",
              " <a href=\"/wiki/Kazakhstan\" title=\"Kazakhstan\">Kazakhstan</a>,\n",
              " <a href=\"#cite_note-6\">[c]</a>,\n",
              " <a href=\"/wiki/Saudi_Arabia\" title=\"Saudi Arabia\">Saudi Arabia</a>,\n",
              " <a href=\"/wiki/Iran\" title=\"Iran\">Iran</a>,\n",
              " <a href=\"/wiki/Mongolia\" title=\"Mongolia\">Mongolia</a>,\n",
              " <a href=\"/wiki/Indonesia\" title=\"Indonesia\">Indonesia</a>,\n",
              " <a href=\"#cite_note-8\">[d]</a>,\n",
              " <a href=\"/wiki/Pakistan\" title=\"Pakistan\">Pakistan</a>,\n",
              " <a href=\"/wiki/Turkey\" title=\"Turkey\">Turkey</a>,\n",
              " <a href=\"#cite_note-10\">[e]</a>,\n",
              " <a href=\"/wiki/Myanmar\" title=\"Myanmar\">Myanmar</a>,\n",
              " <a href=\"/wiki/Afghanistan\" title=\"Afghanistan\">Afghanistan</a>,\n",
              " <a href=\"/wiki/Yemen\" title=\"Yemen\">Yemen</a>,\n",
              " <a href=\"/wiki/Thailand\" title=\"Thailand\">Thailand</a>,\n",
              " <a href=\"/wiki/Turkmenistan\" title=\"Turkmenistan\">Turkmenistan</a>,\n",
              " <a href=\"/wiki/Uzbekistan\" title=\"Uzbekistan\">Uzbekistan</a>,\n",
              " <a href=\"/wiki/Iraq\" title=\"Iraq\">Iraq</a>,\n",
              " <a href=\"/wiki/Japan\" title=\"Japan\">Japan</a>,\n",
              " <a href=\"/wiki/Vietnam\" title=\"Vietnam\">Vietnam</a>,\n",
              " <a href=\"/wiki/Malaysia\" title=\"Malaysia\">Malaysia</a>,\n",
              " <a href=\"/wiki/Oman\" title=\"Oman\">Oman</a>,\n",
              " <a href=\"/wiki/Philippines\" title=\"Philippines\">Philippines</a>,\n",
              " <a href=\"/wiki/Laos\" title=\"Laos\">Laos</a>,\n",
              " <a href=\"/wiki/Kyrgyzstan\" title=\"Kyrgyzstan\">Kyrgyzstan</a>,\n",
              " <a href=\"/wiki/Syria\" title=\"Syria\">Syria</a>,\n",
              " <a href=\"#cite_note-11\">[f]</a>,\n",
              " <a href=\"/wiki/Cambodia\" title=\"Cambodia\">Cambodia</a>,\n",
              " <a href=\"/wiki/Bangladesh\" title=\"Bangladesh\">Bangladesh</a>,\n",
              " <a href=\"/wiki/Nepal\" title=\"Nepal\">Nepal</a>,\n",
              " <a href=\"/wiki/Tajikistan\" title=\"Tajikistan\">Tajikistan</a>,\n",
              " <a href=\"/wiki/North_Korea\" title=\"North Korea\">North Korea</a>,\n",
              " <a href=\"/wiki/South_Korea\" title=\"South Korea\">South Korea</a>,\n",
              " <a href=\"/wiki/Jordan\" title=\"Jordan\">Jordan</a>,\n",
              " <a href=\"/wiki/United_Arab_Emirates\" title=\"United Arab Emirates\">United Arab Emirates</a>,\n",
              " <a href=\"/wiki/Azerbaijan\" title=\"Azerbaijan\">Azerbaijan</a>,\n",
              " <a href=\"#cite_note-13\">[g]</a>,\n",
              " <a href=\"/wiki/Georgia_(country)\" title=\"Georgia (country)\">Georgia</a>,\n",
              " <a href=\"#cite_note-14\">[h]</a>,\n",
              " <a href=\"/wiki/Sri_Lanka\" title=\"Sri Lanka\">Sri Lanka</a>,\n",
              " <a href=\"/wiki/Egypt\" title=\"Egypt\">Egypt</a>,\n",
              " <a href=\"#cite_note-16\">[i]</a>,\n",
              " <a href=\"/wiki/Bhutan\" title=\"Bhutan\">Bhutan</a>,\n",
              " <a href=\"/wiki/Taiwan\" title=\"Taiwan\">Taiwan</a>,\n",
              " <a href=\"#cite_note-17\">[j]</a>,\n",
              " <a href=\"/wiki/Armenia\" title=\"Armenia\">Armenia</a>,\n",
              " <a href=\"#cite_note-18\">[k]</a>,\n",
              " <a href=\"/wiki/Israel\" title=\"Israel\">Israel</a>,\n",
              " <a href=\"#cite_note-19\">[l]</a>,\n",
              " <a href=\"/wiki/Kuwait\" title=\"Kuwait\">Kuwait</a>,\n",
              " <a href=\"/wiki/East_Timor\" title=\"East Timor\">East Timor</a>,\n",
              " <a href=\"/wiki/Qatar\" title=\"Qatar\">Qatar</a>,\n",
              " <a href=\"/wiki/Lebanon\" title=\"Lebanon\">Lebanon</a>,\n",
              " <a href=\"/wiki/Cyprus\" title=\"Cyprus\">Cyprus</a>,\n",
              " <a href=\"#cite_note-20\">[m]</a>,\n",
              " <a href=\"/wiki/State_of_Palestine\" title=\"State of Palestine\">Palestine</a>,\n",
              " <a href=\"#cite_note-23\">[n]</a>,\n",
              " <a href=\"/wiki/Brunei\" title=\"Brunei\">Brunei</a>,\n",
              " <a href=\"/wiki/Hong_Kong\" title=\"Hong Kong\">Hong Kong</a>,\n",
              " <a href=\"/wiki/Bahrain\" title=\"Bahrain\">Bahrain</a>,\n",
              " <a href=\"/wiki/Singapore\" title=\"Singapore\">Singapore</a>,\n",
              " <a href=\"/wiki/Maldives\" title=\"Maldives\">Maldives</a>,\n",
              " <a href=\"#cite_note-24\">[o]</a>,\n",
              " <a href=\"/wiki/Macau\" title=\"Macau\">Macao</a>]"
            ]
          },
          "metadata": {},
          "execution_count": 33
        }
      ]
    },
    {
      "cell_type": "markdown",
      "source": [
        "Storing the country names in a list"
      ],
      "metadata": {
        "id": "bMmUXDDbdLa_"
      }
    },
    {
      "cell_type": "code",
      "source": [
        "country = []\n",
        "for links in table_links:\n",
        "  country.append(links.get('title'))\n",
        "print(country)"
      ],
      "metadata": {
        "colab": {
          "base_uri": "https://localhost:8080/"
        },
        "id": "ABnkXp00cVSl",
        "outputId": "2abbeba9-e016-4153-b311-cea64a522ce5"
      },
      "execution_count": 34,
      "outputs": [
        {
          "output_type": "stream",
          "name": "stdout",
          "text": [
            "['Russia', None, 'China', None, 'India', 'Kazakhstan', None, 'Saudi Arabia', 'Iran', 'Mongolia', 'Indonesia', None, 'Pakistan', 'Turkey', None, 'Myanmar', 'Afghanistan', 'Yemen', 'Thailand', 'Turkmenistan', 'Uzbekistan', 'Iraq', 'Japan', 'Vietnam', 'Malaysia', 'Oman', 'Philippines', 'Laos', 'Kyrgyzstan', 'Syria', None, 'Cambodia', 'Bangladesh', 'Nepal', 'Tajikistan', 'North Korea', 'South Korea', 'Jordan', 'United Arab Emirates', 'Azerbaijan', None, 'Georgia (country)', None, 'Sri Lanka', 'Egypt', None, 'Bhutan', 'Taiwan', None, 'Armenia', None, 'Israel', None, 'Kuwait', 'East Timor', 'Qatar', 'Lebanon', 'Cyprus', None, 'State of Palestine', None, 'Brunei', 'Hong Kong', 'Bahrain', 'Singapore', 'Maldives', None, 'Macau']\n"
          ]
        }
      ]
    },
    {
      "cell_type": "code",
      "source": [
        "import pandas as pd"
      ],
      "metadata": {
        "id": "YZDSSkP_c_Dj"
      },
      "execution_count": 35,
      "outputs": []
    },
    {
      "cell_type": "markdown",
      "source": [
        "storing it into a dataframe"
      ],
      "metadata": {
        "id": "fpy2iIC6dRYk"
      }
    },
    {
      "cell_type": "code",
      "source": [
        "df = pd.DataFrame()\n",
        "df['Country'] = country\n",
        "df"
      ],
      "metadata": {
        "colab": {
          "base_uri": "https://localhost:8080/",
          "height": 423
        },
        "id": "0QIHR0zpdJig",
        "outputId": "7834fe06-ea27-4057-b96c-ccda1d54d393"
      },
      "execution_count": 37,
      "outputs": [
        {
          "output_type": "execute_result",
          "data": {
            "text/plain": [
              "      Country\n",
              "0      Russia\n",
              "1        None\n",
              "2       China\n",
              "3        None\n",
              "4       India\n",
              "..        ...\n",
              "63    Bahrain\n",
              "64  Singapore\n",
              "65   Maldives\n",
              "66       None\n",
              "67      Macau\n",
              "\n",
              "[68 rows x 1 columns]"
            ],
            "text/html": [
              "\n",
              "  <div id=\"df-5c6fff57-c91f-430d-a174-ee98ecf8dd54\" class=\"colab-df-container\">\n",
              "    <div>\n",
              "<style scoped>\n",
              "    .dataframe tbody tr th:only-of-type {\n",
              "        vertical-align: middle;\n",
              "    }\n",
              "\n",
              "    .dataframe tbody tr th {\n",
              "        vertical-align: top;\n",
              "    }\n",
              "\n",
              "    .dataframe thead th {\n",
              "        text-align: right;\n",
              "    }\n",
              "</style>\n",
              "<table border=\"1\" class=\"dataframe\">\n",
              "  <thead>\n",
              "    <tr style=\"text-align: right;\">\n",
              "      <th></th>\n",
              "      <th>Country</th>\n",
              "    </tr>\n",
              "  </thead>\n",
              "  <tbody>\n",
              "    <tr>\n",
              "      <th>0</th>\n",
              "      <td>Russia</td>\n",
              "    </tr>\n",
              "    <tr>\n",
              "      <th>1</th>\n",
              "      <td>None</td>\n",
              "    </tr>\n",
              "    <tr>\n",
              "      <th>2</th>\n",
              "      <td>China</td>\n",
              "    </tr>\n",
              "    <tr>\n",
              "      <th>3</th>\n",
              "      <td>None</td>\n",
              "    </tr>\n",
              "    <tr>\n",
              "      <th>4</th>\n",
              "      <td>India</td>\n",
              "    </tr>\n",
              "    <tr>\n",
              "      <th>...</th>\n",
              "      <td>...</td>\n",
              "    </tr>\n",
              "    <tr>\n",
              "      <th>63</th>\n",
              "      <td>Bahrain</td>\n",
              "    </tr>\n",
              "    <tr>\n",
              "      <th>64</th>\n",
              "      <td>Singapore</td>\n",
              "    </tr>\n",
              "    <tr>\n",
              "      <th>65</th>\n",
              "      <td>Maldives</td>\n",
              "    </tr>\n",
              "    <tr>\n",
              "      <th>66</th>\n",
              "      <td>None</td>\n",
              "    </tr>\n",
              "    <tr>\n",
              "      <th>67</th>\n",
              "      <td>Macau</td>\n",
              "    </tr>\n",
              "  </tbody>\n",
              "</table>\n",
              "<p>68 rows × 1 columns</p>\n",
              "</div>\n",
              "    <div class=\"colab-df-buttons\">\n",
              "\n",
              "  <div class=\"colab-df-container\">\n",
              "    <button class=\"colab-df-convert\" onclick=\"convertToInteractive('df-5c6fff57-c91f-430d-a174-ee98ecf8dd54')\"\n",
              "            title=\"Convert this dataframe to an interactive table.\"\n",
              "            style=\"display:none;\">\n",
              "\n",
              "  <svg xmlns=\"http://www.w3.org/2000/svg\" height=\"24px\" viewBox=\"0 -960 960 960\">\n",
              "    <path d=\"M120-120v-720h720v720H120Zm60-500h600v-160H180v160Zm220 220h160v-160H400v160Zm0 220h160v-160H400v160ZM180-400h160v-160H180v160Zm440 0h160v-160H620v160ZM180-180h160v-160H180v160Zm440 0h160v-160H620v160Z\"/>\n",
              "  </svg>\n",
              "    </button>\n",
              "\n",
              "  <style>\n",
              "    .colab-df-container {\n",
              "      display:flex;\n",
              "      gap: 12px;\n",
              "    }\n",
              "\n",
              "    .colab-df-convert {\n",
              "      background-color: #E8F0FE;\n",
              "      border: none;\n",
              "      border-radius: 50%;\n",
              "      cursor: pointer;\n",
              "      display: none;\n",
              "      fill: #1967D2;\n",
              "      height: 32px;\n",
              "      padding: 0 0 0 0;\n",
              "      width: 32px;\n",
              "    }\n",
              "\n",
              "    .colab-df-convert:hover {\n",
              "      background-color: #E2EBFA;\n",
              "      box-shadow: 0px 1px 2px rgba(60, 64, 67, 0.3), 0px 1px 3px 1px rgba(60, 64, 67, 0.15);\n",
              "      fill: #174EA6;\n",
              "    }\n",
              "\n",
              "    .colab-df-buttons div {\n",
              "      margin-bottom: 4px;\n",
              "    }\n",
              "\n",
              "    [theme=dark] .colab-df-convert {\n",
              "      background-color: #3B4455;\n",
              "      fill: #D2E3FC;\n",
              "    }\n",
              "\n",
              "    [theme=dark] .colab-df-convert:hover {\n",
              "      background-color: #434B5C;\n",
              "      box-shadow: 0px 1px 3px 1px rgba(0, 0, 0, 0.15);\n",
              "      filter: drop-shadow(0px 1px 2px rgba(0, 0, 0, 0.3));\n",
              "      fill: #FFFFFF;\n",
              "    }\n",
              "  </style>\n",
              "\n",
              "    <script>\n",
              "      const buttonEl =\n",
              "        document.querySelector('#df-5c6fff57-c91f-430d-a174-ee98ecf8dd54 button.colab-df-convert');\n",
              "      buttonEl.style.display =\n",
              "        google.colab.kernel.accessAllowed ? 'block' : 'none';\n",
              "\n",
              "      async function convertToInteractive(key) {\n",
              "        const element = document.querySelector('#df-5c6fff57-c91f-430d-a174-ee98ecf8dd54');\n",
              "        const dataTable =\n",
              "          await google.colab.kernel.invokeFunction('convertToInteractive',\n",
              "                                                    [key], {});\n",
              "        if (!dataTable) return;\n",
              "\n",
              "        const docLinkHtml = 'Like what you see? Visit the ' +\n",
              "          '<a target=\"_blank\" href=https://colab.research.google.com/notebooks/data_table.ipynb>data table notebook</a>'\n",
              "          + ' to learn more about interactive tables.';\n",
              "        element.innerHTML = '';\n",
              "        dataTable['output_type'] = 'display_data';\n",
              "        await google.colab.output.renderOutput(dataTable, element);\n",
              "        const docLink = document.createElement('div');\n",
              "        docLink.innerHTML = docLinkHtml;\n",
              "        element.appendChild(docLink);\n",
              "      }\n",
              "    </script>\n",
              "  </div>\n",
              "\n",
              "\n",
              "<div id=\"df-6a970726-e86e-4fb3-82e7-e18056ac9c36\">\n",
              "  <button class=\"colab-df-quickchart\" onclick=\"quickchart('df-6a970726-e86e-4fb3-82e7-e18056ac9c36')\"\n",
              "            title=\"Suggest charts\"\n",
              "            style=\"display:none;\">\n",
              "\n",
              "<svg xmlns=\"http://www.w3.org/2000/svg\" height=\"24px\"viewBox=\"0 0 24 24\"\n",
              "     width=\"24px\">\n",
              "    <g>\n",
              "        <path d=\"M19 3H5c-1.1 0-2 .9-2 2v14c0 1.1.9 2 2 2h14c1.1 0 2-.9 2-2V5c0-1.1-.9-2-2-2zM9 17H7v-7h2v7zm4 0h-2V7h2v10zm4 0h-2v-4h2v4z\"/>\n",
              "    </g>\n",
              "</svg>\n",
              "  </button>\n",
              "\n",
              "<style>\n",
              "  .colab-df-quickchart {\n",
              "      --bg-color: #E8F0FE;\n",
              "      --fill-color: #1967D2;\n",
              "      --hover-bg-color: #E2EBFA;\n",
              "      --hover-fill-color: #174EA6;\n",
              "      --disabled-fill-color: #AAA;\n",
              "      --disabled-bg-color: #DDD;\n",
              "  }\n",
              "\n",
              "  [theme=dark] .colab-df-quickchart {\n",
              "      --bg-color: #3B4455;\n",
              "      --fill-color: #D2E3FC;\n",
              "      --hover-bg-color: #434B5C;\n",
              "      --hover-fill-color: #FFFFFF;\n",
              "      --disabled-bg-color: #3B4455;\n",
              "      --disabled-fill-color: #666;\n",
              "  }\n",
              "\n",
              "  .colab-df-quickchart {\n",
              "    background-color: var(--bg-color);\n",
              "    border: none;\n",
              "    border-radius: 50%;\n",
              "    cursor: pointer;\n",
              "    display: none;\n",
              "    fill: var(--fill-color);\n",
              "    height: 32px;\n",
              "    padding: 0;\n",
              "    width: 32px;\n",
              "  }\n",
              "\n",
              "  .colab-df-quickchart:hover {\n",
              "    background-color: var(--hover-bg-color);\n",
              "    box-shadow: 0 1px 2px rgba(60, 64, 67, 0.3), 0 1px 3px 1px rgba(60, 64, 67, 0.15);\n",
              "    fill: var(--button-hover-fill-color);\n",
              "  }\n",
              "\n",
              "  .colab-df-quickchart-complete:disabled,\n",
              "  .colab-df-quickchart-complete:disabled:hover {\n",
              "    background-color: var(--disabled-bg-color);\n",
              "    fill: var(--disabled-fill-color);\n",
              "    box-shadow: none;\n",
              "  }\n",
              "\n",
              "  .colab-df-spinner {\n",
              "    border: 2px solid var(--fill-color);\n",
              "    border-color: transparent;\n",
              "    border-bottom-color: var(--fill-color);\n",
              "    animation:\n",
              "      spin 1s steps(1) infinite;\n",
              "  }\n",
              "\n",
              "  @keyframes spin {\n",
              "    0% {\n",
              "      border-color: transparent;\n",
              "      border-bottom-color: var(--fill-color);\n",
              "      border-left-color: var(--fill-color);\n",
              "    }\n",
              "    20% {\n",
              "      border-color: transparent;\n",
              "      border-left-color: var(--fill-color);\n",
              "      border-top-color: var(--fill-color);\n",
              "    }\n",
              "    30% {\n",
              "      border-color: transparent;\n",
              "      border-left-color: var(--fill-color);\n",
              "      border-top-color: var(--fill-color);\n",
              "      border-right-color: var(--fill-color);\n",
              "    }\n",
              "    40% {\n",
              "      border-color: transparent;\n",
              "      border-right-color: var(--fill-color);\n",
              "      border-top-color: var(--fill-color);\n",
              "    }\n",
              "    60% {\n",
              "      border-color: transparent;\n",
              "      border-right-color: var(--fill-color);\n",
              "    }\n",
              "    80% {\n",
              "      border-color: transparent;\n",
              "      border-right-color: var(--fill-color);\n",
              "      border-bottom-color: var(--fill-color);\n",
              "    }\n",
              "    90% {\n",
              "      border-color: transparent;\n",
              "      border-bottom-color: var(--fill-color);\n",
              "    }\n",
              "  }\n",
              "</style>\n",
              "\n",
              "  <script>\n",
              "    async function quickchart(key) {\n",
              "      const quickchartButtonEl =\n",
              "        document.querySelector('#' + key + ' button');\n",
              "      quickchartButtonEl.disabled = true;  // To prevent multiple clicks.\n",
              "      quickchartButtonEl.classList.add('colab-df-spinner');\n",
              "      try {\n",
              "        const charts = await google.colab.kernel.invokeFunction(\n",
              "            'suggestCharts', [key], {});\n",
              "      } catch (error) {\n",
              "        console.error('Error during call to suggestCharts:', error);\n",
              "      }\n",
              "      quickchartButtonEl.classList.remove('colab-df-spinner');\n",
              "      quickchartButtonEl.classList.add('colab-df-quickchart-complete');\n",
              "    }\n",
              "    (() => {\n",
              "      let quickchartButtonEl =\n",
              "        document.querySelector('#df-6a970726-e86e-4fb3-82e7-e18056ac9c36 button');\n",
              "      quickchartButtonEl.style.display =\n",
              "        google.colab.kernel.accessAllowed ? 'block' : 'none';\n",
              "    })();\n",
              "  </script>\n",
              "</div>\n",
              "    </div>\n",
              "  </div>\n"
            ]
          },
          "metadata": {},
          "execution_count": 37
        }
      ]
    },
    {
      "cell_type": "code",
      "source": [],
      "metadata": {
        "id": "DN8raGiWdvfa"
      },
      "execution_count": null,
      "outputs": []
    }
  ]
}